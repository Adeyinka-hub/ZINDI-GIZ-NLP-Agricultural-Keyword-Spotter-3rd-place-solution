{
 "cells": [
  {
   "cell_type": "markdown",
   "metadata": {
    "id": "GAcgcu2aV_zI"
   },
   "source": [
    "# 3rd Place Final Submission Ensemble\n",
    "\n",
    "- after runing all 4 models we save weights in `output_dir` path in that path we have model_name as folders \n",
    "- in each folder we find `fold-0-submission.csv` to `fold-19-submission.csv`\n",
    "- we average all fold in each folder by model wise\n",
    "- and save average of 20 folds submission as `{Model_name}_submission.csv` in same fold  "
   ]
  },
  {
   "cell_type": "code",
   "execution_count": 1,
   "metadata": {
    "colab": {
     "base_uri": "https://localhost:8080/"
    },
    "executionInfo": {
     "elapsed": 85103,
     "status": "ok",
     "timestamp": 1606760343602,
     "user": {
      "displayName": "GOPI DURGAPRASAD N150762",
      "photoUrl": "https://lh3.googleusercontent.com/a-/AOh14Gje8m8RK2AKVkZWBIc0HJhrXWpwExK0saBR_KDc41c=s64",
      "userId": "09525390218886483305"
     },
     "user_tz": -330
    },
    "id": "CyCOCBPuVjoQ",
    "outputId": "3f6ddbd3-090e-4652-f2e1-8e0c20efebc8"
   },
   "outputs": [
    {
     "name": "stdout",
     "output_type": "stream",
     "text": [
      "Mounted at /content/drive\n"
     ]
    }
   ],
   "source": [
    "from google.colab import drive\n",
    "drive.mount('/content/drive')"
   ]
  },
  {
   "cell_type": "code",
   "execution_count": 6,
   "metadata": {
    "executionInfo": {
     "elapsed": 1605,
     "status": "ok",
     "timestamp": 1606760820078,
     "user": {
      "displayName": "GOPI DURGAPRASAD N150762",
      "photoUrl": "https://lh3.googleusercontent.com/a-/AOh14Gje8m8RK2AKVkZWBIc0HJhrXWpwExK0saBR_KDc41c=s64",
      "userId": "09525390218886483305"
     },
     "user_tz": -330
    },
    "id": "6Tjt1sLUaC5B"
   },
   "outputs": [],
   "source": [
    "import numpy as np\n",
    "import pandas as pd"
   ]
  },
  {
   "cell_type": "code",
   "execution_count": 7,
   "metadata": {
    "executionInfo": {
     "elapsed": 2350,
     "status": "ok",
     "timestamp": 1606760820865,
     "user": {
      "displayName": "GOPI DURGAPRASAD N150762",
      "photoUrl": "https://lh3.googleusercontent.com/a-/AOh14Gje8m8RK2AKVkZWBIc0HJhrXWpwExK0saBR_KDc41c=s64",
      "userId": "09525390218886483305"
     },
     "user_tz": -330
    },
    "id": "HQNECmwRY05Y"
   },
   "outputs": [],
   "source": [
    "# where the model weights saved\n",
    "output_dir = \"/content/drive/MyDrive/ZINDI GIZ NLP Agricultural Keyword Spotter #3 place solution/trained_weights\""
   ]
  },
  {
   "cell_type": "code",
   "execution_count": 13,
   "metadata": {
    "executionInfo": {
     "elapsed": 1846,
     "status": "ok",
     "timestamp": 1606761176618,
     "user": {
      "displayName": "GOPI DURGAPRASAD N150762",
      "photoUrl": "https://lh3.googleusercontent.com/a-/AOh14Gje8m8RK2AKVkZWBIc0HJhrXWpwExK0saBR_KDc41c=s64",
      "userId": "09525390218886483305"
     },
     "user_tz": -330
    },
    "id": "wkbDi6nCaprH"
   },
   "outputs": [],
   "source": [
    "# sample submission file path\n",
    "sample_submission = pd.read_csv(\"/content/drive/MyDrive/ZINDI GIZ NLP Agricultural Keyword Spotter #3 place solution/input/SampleSubmission.csv\")\n",
    "# target_columns names\n",
    "target_cols = sample_submission.columns[1:].values"
   ]
  },
  {
   "cell_type": "markdown",
   "metadata": {
    "id": "0UKYRS1gYVvC"
   },
   "source": [
    "### 01-Eff5_20fold_base (part1 & part2)"
   ]
  },
  {
   "cell_type": "code",
   "execution_count": 12,
   "metadata": {
    "executionInfo": {
     "elapsed": 2996,
     "status": "ok",
     "timestamp": 1606761120972,
     "user": {
      "displayName": "GOPI DURGAPRASAD N150762",
      "photoUrl": "https://lh3.googleusercontent.com/a-/AOh14Gje8m8RK2AKVkZWBIc0HJhrXWpwExK0saBR_KDc41c=s64",
      "userId": "09525390218886483305"
     },
     "user_tz": -330
    },
    "id": "_B9psYmdX2RC"
   },
   "outputs": [],
   "source": [
    "sub0 = pd.read_csv(f\"{output_dir}/Eff5_20fold_base/fold-0-submission.csv\").sort_values(\"fn\").reset_index(drop=True)\n",
    "sub1 = pd.read_csv(f\"{output_dir}/Eff5_20fold_base/fold-1-submission.csv\").sort_values(\"fn\").reset_index(drop=True)\n",
    "sub2 = pd.read_csv(f\"{output_dir}/Eff5_20fold_base/fold-2-submission.csv\").sort_values(\"fn\").reset_index(drop=True)\n",
    "sub3 = pd.read_csv(f\"{output_dir}/Eff5_20fold_base/fold-3-submission.csv\").sort_values(\"fn\").reset_index(drop=True)\n",
    "sub4 = pd.read_csv(f\"{output_dir}/Eff5_20fold_base/fold-4-submission.csv\").sort_values(\"fn\").reset_index(drop=True)\n",
    "sub5 = pd.read_csv(f\"{output_dir}/Eff5_20fold_base/fold-5-submission.csv\").sort_values(\"fn\").reset_index(drop=True)\n",
    "sub6 = pd.read_csv(f\"{output_dir}/Eff5_20fold_base/fold-6-submission.csv\").sort_values(\"fn\").reset_index(drop=True)\n",
    "sub7 = pd.read_csv(f\"{output_dir}/Eff5_20fold_base/fold-7-submission.csv\").sort_values(\"fn\").reset_index(drop=True)\n",
    "sub8 = pd.read_csv(f\"{output_dir}/Eff5_20fold_base/fold-8-submission.csv\").sort_values(\"fn\").reset_index(drop=True)\n",
    "sub9 = pd.read_csv(f\"{output_dir}/Eff5_20fold_base/fold-9-submission.csv\").sort_values(\"fn\").reset_index(drop=True)\n",
    "sub10 = pd.read_csv(f\"{output_dir}/Eff5_20fold_base/fold-10-submission.csv\").sort_values(\"fn\").reset_index(drop=True)\n",
    "sub11 = pd.read_csv(f\"{output_dir}/Eff5_20fold_base/fold-11-submission.csv\").sort_values(\"fn\").reset_index(drop=True)\n",
    "sub12 = pd.read_csv(f\"{output_dir}/Eff5_20fold_base/fold-12-submission.csv\").sort_values(\"fn\").reset_index(drop=True)\n",
    "sub13 = pd.read_csv(f\"{output_dir}/Eff5_20fold_base/fold-13-submission.csv\").sort_values(\"fn\").reset_index(drop=True)\n",
    "sub14 = pd.read_csv(f\"{output_dir}/Eff5_20fold_base/fold-14-submission.csv\").sort_values(\"fn\").reset_index(drop=True)\n",
    "sub15 = pd.read_csv(f\"{output_dir}/Eff5_20fold_base/fold-15-submission.csv\").sort_values(\"fn\").reset_index(drop=True)\n",
    "sub16 = pd.read_csv(f\"{output_dir}/Eff5_20fold_base/fold-16-submission.csv\").sort_values(\"fn\").reset_index(drop=True)\n",
    "sub17 = pd.read_csv(f\"{output_dir}/Eff5_20fold_base/fold-17-submission.csv\").sort_values(\"fn\").reset_index(drop=True)\n",
    "sub18 = pd.read_csv(f\"{output_dir}/Eff5_20fold_base/fold-18-submission.csv\").sort_values(\"fn\").reset_index(drop=True)\n",
    "sub19 = pd.read_csv(f\"{output_dir}/Eff5_20fold_base/fold-19-submission.csv\").sort_values(\"fn\").reset_index(drop=True)"
   ]
  },
  {
   "cell_type": "code",
   "execution_count": 14,
   "metadata": {
    "executionInfo": {
     "elapsed": 2986,
     "status": "ok",
     "timestamp": 1606761257443,
     "user": {
      "displayName": "GOPI DURGAPRASAD N150762",
      "photoUrl": "https://lh3.googleusercontent.com/a-/AOh14Gje8m8RK2AKVkZWBIc0HJhrXWpwExK0saBR_KDc41c=s64",
      "userId": "09525390218886483305"
     },
     "user_tz": -330
    },
    "id": "cGOWYrq6X2sB"
   },
   "outputs": [],
   "source": [
    "sub = sub0.copy()\n",
    "sub[target_cols] = (\n",
    "    sub0[target_cols].values + \n",
    "    sub1[target_cols].values + \n",
    "    sub2[target_cols].values + \n",
    "    sub3[target_cols].values + \n",
    "    sub4[target_cols].values +\n",
    "    sub5[target_cols].values + \n",
    "    sub6[target_cols].values + \n",
    "    sub7[target_cols].values + \n",
    "    sub8[target_cols].values + \n",
    "    sub9[target_cols].values +\n",
    "    sub10[target_cols].values + \n",
    "    sub11[target_cols].values + \n",
    "    sub12[target_cols].values + \n",
    "    sub13[target_cols].values + \n",
    "    sub14[target_cols].values +\n",
    "    sub15[target_cols].values + \n",
    "    sub16[target_cols].values + \n",
    "    sub17[target_cols].values + \n",
    "    sub18[target_cols].values + \n",
    "    sub19[target_cols].values ) / 20\n",
    "\n",
    "final_ss = pd.merge(sample_submission[[\"fn\"]], sub, on=\"fn\", how=\"left\")\n",
    "final_ss.to_csv(f\"{output_dir}/Eff5_20fold_base/Eff5_20fold_base_submission.csv\", index=False)"
   ]
  },
  {
   "cell_type": "markdown",
   "metadata": {
    "id": "ppBOQ9Obbymw"
   },
   "source": [
    "### 03-Eff6_20fold_base"
   ]
  },
  {
   "cell_type": "code",
   "execution_count": 16,
   "metadata": {
    "executionInfo": {
     "elapsed": 3717,
     "status": "ok",
     "timestamp": 1606761399323,
     "user": {
      "displayName": "GOPI DURGAPRASAD N150762",
      "photoUrl": "https://lh3.googleusercontent.com/a-/AOh14Gje8m8RK2AKVkZWBIc0HJhrXWpwExK0saBR_KDc41c=s64",
      "userId": "09525390218886483305"
     },
     "user_tz": -330
    },
    "id": "2C_xSbYDX2MQ"
   },
   "outputs": [],
   "source": [
    "sub0 = pd.read_csv(f\"{output_dir}/Eff6_20fold_base/fold-0-submission.csv\").sort_values(\"fn\").reset_index(drop=True)\n",
    "sub1 = pd.read_csv(f\"{output_dir}/Eff6_20fold_base/fold-1-submission.csv\").sort_values(\"fn\").reset_index(drop=True)\n",
    "sub2 = pd.read_csv(f\"{output_dir}/Eff6_20fold_base/fold-2-submission.csv\").sort_values(\"fn\").reset_index(drop=True)\n",
    "sub3 = pd.read_csv(f\"{output_dir}/Eff6_20fold_base/fold-3-submission.csv\").sort_values(\"fn\").reset_index(drop=True)\n",
    "sub4 = pd.read_csv(f\"{output_dir}/Eff6_20fold_base/fold-4-submission.csv\").sort_values(\"fn\").reset_index(drop=True)\n",
    "sub5 = pd.read_csv(f\"{output_dir}/Eff6_20fold_base/fold-5-submission.csv\").sort_values(\"fn\").reset_index(drop=True)\n",
    "sub6 = pd.read_csv(f\"{output_dir}/Eff6_20fold_base/fold-6-submission.csv\").sort_values(\"fn\").reset_index(drop=True)\n",
    "sub7 = pd.read_csv(f\"{output_dir}/Eff6_20fold_base/fold-7-submission.csv\").sort_values(\"fn\").reset_index(drop=True)\n",
    "sub8 = pd.read_csv(f\"{output_dir}/Eff6_20fold_base/fold-8-submission.csv\").sort_values(\"fn\").reset_index(drop=True)\n",
    "sub9 = pd.read_csv(f\"{output_dir}/Eff6_20fold_base/fold-9-submission.csv\").sort_values(\"fn\").reset_index(drop=True)\n",
    "sub10 = pd.read_csv(f\"{output_dir}/Eff6_20fold_base/fold-10-submission.csv\").sort_values(\"fn\").reset_index(drop=True)\n",
    "sub11 = pd.read_csv(f\"{output_dir}/Eff6_20fold_base/fold-11-submission.csv\").sort_values(\"fn\").reset_index(drop=True)\n",
    "sub12 = pd.read_csv(f\"{output_dir}/Eff6_20fold_base/fold-12-submission.csv\").sort_values(\"fn\").reset_index(drop=True)\n",
    "sub13 = pd.read_csv(f\"{output_dir}/Eff6_20fold_base/fold-13-submission.csv\").sort_values(\"fn\").reset_index(drop=True)\n",
    "sub14 = pd.read_csv(f\"{output_dir}/Eff6_20fold_base/fold-14-submission.csv\").sort_values(\"fn\").reset_index(drop=True)\n",
    "sub15 = pd.read_csv(f\"{output_dir}/Eff6_20fold_base/fold-15-submission.csv\").sort_values(\"fn\").reset_index(drop=True)\n",
    "sub16 = pd.read_csv(f\"{output_dir}/Eff6_20fold_base/fold-16-submission.csv\").sort_values(\"fn\").reset_index(drop=True)\n",
    "sub17 = pd.read_csv(f\"{output_dir}/Eff6_20fold_base/fold-17-submission.csv\").sort_values(\"fn\").reset_index(drop=True)\n",
    "#sub18 = pd.read_csv(f\"{output_dir}/Eff6_20fold_base/fold-18-submission.csv\").sort_values(\"fn\").reset_index(drop=True)\n",
    "sub19 = pd.read_csv(f\"{output_dir}/Eff6_20fold_base/fold-19-submission.csv\").sort_values(\"fn\").reset_index(drop=True)"
   ]
  },
  {
   "cell_type": "code",
   "execution_count": 17,
   "metadata": {
    "executionInfo": {
     "elapsed": 3213,
     "status": "ok",
     "timestamp": 1606761643215,
     "user": {
      "displayName": "GOPI DURGAPRASAD N150762",
      "photoUrl": "https://lh3.googleusercontent.com/a-/AOh14Gje8m8RK2AKVkZWBIc0HJhrXWpwExK0saBR_KDc41c=s64",
      "userId": "09525390218886483305"
     },
     "user_tz": -330
    },
    "id": "HGrBuLSxX2J7"
   },
   "outputs": [],
   "source": [
    "sub = sub0.copy()\n",
    "sub[target_cols] = (\n",
    "    sub0[target_cols].values + \n",
    "    sub1[target_cols].values + \n",
    "    sub2[target_cols].values + \n",
    "    sub3[target_cols].values + \n",
    "    sub4[target_cols].values +\n",
    "    sub5[target_cols].values + \n",
    "    sub6[target_cols].values + \n",
    "    sub7[target_cols].values + \n",
    "    sub8[target_cols].values + \n",
    "    sub9[target_cols].values +\n",
    "    sub10[target_cols].values + \n",
    "    sub11[target_cols].values + \n",
    "    sub12[target_cols].values + \n",
    "    sub13[target_cols].values + \n",
    "    sub14[target_cols].values +\n",
    "    sub15[target_cols].values + \n",
    "    sub16[target_cols].values + \n",
    "    sub17[target_cols].values + \n",
    "    #sub18[target_cols].values + # <--- update we exclude 18 hear because we got 'No columns to parse from file' error because of when save models to drive some models saved as null thats may be rease of busy drive read ans write\n",
    "    sub19[target_cols].values ) / 19\n",
    "\n",
    "final_ss = pd.merge(sample_submission[[\"fn\"]], sub, on=\"fn\", how=\"left\")\n",
    "final_ss.to_csv(f\"{output_dir}/Eff6_20fold_base/Eff6_20fold_base_submission.csv\", index=False)"
   ]
  },
  {
   "cell_type": "markdown",
   "metadata": {
    "id": "YjSwYScwdQu9"
   },
   "source": [
    "### 04-Eff7_20fold_base"
   ]
  },
  {
   "cell_type": "code",
   "execution_count": 19,
   "metadata": {
    "executionInfo": {
     "elapsed": 2678,
     "status": "ok",
     "timestamp": 1606761801942,
     "user": {
      "displayName": "GOPI DURGAPRASAD N150762",
      "photoUrl": "https://lh3.googleusercontent.com/a-/AOh14Gje8m8RK2AKVkZWBIc0HJhrXWpwExK0saBR_KDc41c=s64",
      "userId": "09525390218886483305"
     },
     "user_tz": -330
    },
    "id": "WfZ6TTPhdO8a"
   },
   "outputs": [],
   "source": [
    "sub0 = pd.read_csv(f\"{output_dir}/Eff7_20fold_base/fold-0-submission.csv\").sort_values(\"fn\").reset_index(drop=True)\n",
    "sub1 = pd.read_csv(f\"{output_dir}/Eff7_20fold_base/fold-1-submission.csv\").sort_values(\"fn\").reset_index(drop=True)\n",
    "sub2 = pd.read_csv(f\"{output_dir}/Eff7_20fold_base/fold-2-submission.csv\").sort_values(\"fn\").reset_index(drop=True)\n",
    "sub3 = pd.read_csv(f\"{output_dir}/Eff7_20fold_base/fold-3-submission.csv\").sort_values(\"fn\").reset_index(drop=True)\n",
    "sub4 = pd.read_csv(f\"{output_dir}/Eff7_20fold_base/fold-4-submission.csv\").sort_values(\"fn\").reset_index(drop=True)\n",
    "sub5 = pd.read_csv(f\"{output_dir}/Eff7_20fold_base/fold-5-submission.csv\").sort_values(\"fn\").reset_index(drop=True)\n",
    "sub6 = pd.read_csv(f\"{output_dir}/Eff7_20fold_base/fold-6-submission.csv\").sort_values(\"fn\").reset_index(drop=True)\n",
    "sub7 = pd.read_csv(f\"{output_dir}/Eff7_20fold_base/fold-7-submission.csv\").sort_values(\"fn\").reset_index(drop=True)\n",
    "sub8 = pd.read_csv(f\"{output_dir}/Eff7_20fold_base/fold-8-submission.csv\").sort_values(\"fn\").reset_index(drop=True)\n",
    "sub9 = pd.read_csv(f\"{output_dir}/Eff7_20fold_base/fold-9-submission.csv\").sort_values(\"fn\").reset_index(drop=True)\n",
    "sub10 = pd.read_csv(f\"{output_dir}/Eff7_20fold_base/fold-10-submission.csv\").sort_values(\"fn\").reset_index(drop=True)\n",
    "sub11 = pd.read_csv(f\"{output_dir}/Eff7_20fold_base/fold-11-submission.csv\").sort_values(\"fn\").reset_index(drop=True)\n",
    "sub12 = pd.read_csv(f\"{output_dir}/Eff7_20fold_base/fold-12-submission.csv\").sort_values(\"fn\").reset_index(drop=True)\n",
    "sub13 = pd.read_csv(f\"{output_dir}/Eff7_20fold_base/fold-13-submission.csv\").sort_values(\"fn\").reset_index(drop=True)\n",
    "sub14 = pd.read_csv(f\"{output_dir}/Eff7_20fold_base/fold-14-submission.csv\").sort_values(\"fn\").reset_index(drop=True)\n",
    "sub15 = pd.read_csv(f\"{output_dir}/Eff7_20fold_base/fold-15-submission.csv\").sort_values(\"fn\").reset_index(drop=True)\n",
    "sub16 = pd.read_csv(f\"{output_dir}/Eff7_20fold_base/fold-16-submission.csv\").sort_values(\"fn\").reset_index(drop=True)\n",
    "sub17 = pd.read_csv(f\"{output_dir}/Eff7_20fold_base/fold-17-submission.csv\").sort_values(\"fn\").reset_index(drop=True)\n",
    "sub18 = pd.read_csv(f\"{output_dir}/Eff7_20fold_base/fold-18-submission.csv\").sort_values(\"fn\").reset_index(drop=True)\n",
    "sub19 = pd.read_csv(f\"{output_dir}/Eff7_20fold_base/fold-19-submission.csv\").sort_values(\"fn\").reset_index(drop=True)"
   ]
  },
  {
   "cell_type": "code",
   "execution_count": 20,
   "metadata": {
    "executionInfo": {
     "elapsed": 2368,
     "status": "ok",
     "timestamp": 1606761806366,
     "user": {
      "displayName": "GOPI DURGAPRASAD N150762",
      "photoUrl": "https://lh3.googleusercontent.com/a-/AOh14Gje8m8RK2AKVkZWBIc0HJhrXWpwExK0saBR_KDc41c=s64",
      "userId": "09525390218886483305"
     },
     "user_tz": -330
    },
    "id": "Ns1FnaskdoZd"
   },
   "outputs": [],
   "source": [
    "sub = sub0.copy()\n",
    "sub[target_cols] = (\n",
    "    sub0[target_cols].values + \n",
    "    sub1[target_cols].values + \n",
    "    sub2[target_cols].values + \n",
    "    sub3[target_cols].values + \n",
    "    sub4[target_cols].values +\n",
    "    sub5[target_cols].values + \n",
    "    sub6[target_cols].values + \n",
    "    sub7[target_cols].values + \n",
    "    sub8[target_cols].values + \n",
    "    sub9[target_cols].values +\n",
    "    sub10[target_cols].values + \n",
    "    sub11[target_cols].values + \n",
    "    sub12[target_cols].values + \n",
    "    sub13[target_cols].values + \n",
    "    sub14[target_cols].values +\n",
    "    sub15[target_cols].values + \n",
    "    sub16[target_cols].values + \n",
    "    sub17[target_cols].values + \n",
    "    sub18[target_cols].values + \n",
    "    sub19[target_cols].values ) / 20\n",
    "\n",
    "final_ss = pd.merge(sample_submission[[\"fn\"]], sub, on=\"fn\", how=\"left\")\n",
    "final_ss.to_csv(f\"{output_dir}/Eff7_20fold_base/Eff7_20fold_base_submission.csv\", index=False)"
   ]
  },
  {
   "cell_type": "markdown",
   "metadata": {
    "id": "0__aX9j-d5fz"
   },
   "source": [
    "### 05-DNet201_20fold_base"
   ]
  },
  {
   "cell_type": "code",
   "execution_count": 21,
   "metadata": {
    "executionInfo": {
     "elapsed": 19951,
     "status": "ok",
     "timestamp": 1606761949152,
     "user": {
      "displayName": "GOPI DURGAPRASAD N150762",
      "photoUrl": "https://lh3.googleusercontent.com/a-/AOh14Gje8m8RK2AKVkZWBIc0HJhrXWpwExK0saBR_KDc41c=s64",
      "userId": "09525390218886483305"
     },
     "user_tz": -330
    },
    "id": "0ZtRNskPd2_I"
   },
   "outputs": [],
   "source": [
    "sub0 = pd.read_csv(f\"{output_dir}/DNet201_20fold_base/fold-0-submission.csv\").sort_values(\"fn\").reset_index(drop=True)\n",
    "sub1 = pd.read_csv(f\"{output_dir}/DNet201_20fold_base/fold-1-submission.csv\").sort_values(\"fn\").reset_index(drop=True)\n",
    "sub2 = pd.read_csv(f\"{output_dir}/DNet201_20fold_base/fold-2-submission.csv\").sort_values(\"fn\").reset_index(drop=True)\n",
    "sub3 = pd.read_csv(f\"{output_dir}/DNet201_20fold_base/fold-3-submission.csv\").sort_values(\"fn\").reset_index(drop=True)\n",
    "sub4 = pd.read_csv(f\"{output_dir}/DNet201_20fold_base/fold-4-submission.csv\").sort_values(\"fn\").reset_index(drop=True)\n",
    "sub5 = pd.read_csv(f\"{output_dir}/DNet201_20fold_base/fold-5-submission.csv\").sort_values(\"fn\").reset_index(drop=True)\n",
    "sub6 = pd.read_csv(f\"{output_dir}/DNet201_20fold_base/fold-6-submission.csv\").sort_values(\"fn\").reset_index(drop=True)\n",
    "sub7 = pd.read_csv(f\"{output_dir}/DNet201_20fold_base/fold-7-submission.csv\").sort_values(\"fn\").reset_index(drop=True)\n",
    "sub8 = pd.read_csv(f\"{output_dir}/DNet201_20fold_base/fold-8-submission.csv\").sort_values(\"fn\").reset_index(drop=True)\n",
    "sub9 = pd.read_csv(f\"{output_dir}/DNet201_20fold_base/fold-9-submission.csv\").sort_values(\"fn\").reset_index(drop=True)\n",
    "sub10 = pd.read_csv(f\"{output_dir}/DNet201_20fold_base/fold-10-submission.csv\").sort_values(\"fn\").reset_index(drop=True)\n",
    "sub11 = pd.read_csv(f\"{output_dir}/DNet201_20fold_base/fold-11-submission.csv\").sort_values(\"fn\").reset_index(drop=True)\n",
    "sub12 = pd.read_csv(f\"{output_dir}/DNet201_20fold_base/fold-12-submission.csv\").sort_values(\"fn\").reset_index(drop=True)\n",
    "sub13 = pd.read_csv(f\"{output_dir}/DNet201_20fold_base/fold-13-submission.csv\").sort_values(\"fn\").reset_index(drop=True)\n",
    "sub14 = pd.read_csv(f\"{output_dir}/DNet201_20fold_base/fold-14-submission.csv\").sort_values(\"fn\").reset_index(drop=True)\n",
    "sub15 = pd.read_csv(f\"{output_dir}/DNet201_20fold_base/fold-15-submission.csv\").sort_values(\"fn\").reset_index(drop=True)\n",
    "sub16 = pd.read_csv(f\"{output_dir}/DNet201_20fold_base/fold-16-submission.csv\").sort_values(\"fn\").reset_index(drop=True)\n",
    "sub17 = pd.read_csv(f\"{output_dir}/DNet201_20fold_base/fold-17-submission.csv\").sort_values(\"fn\").reset_index(drop=True)\n",
    "sub18 = pd.read_csv(f\"{output_dir}/DNet201_20fold_base/fold-18-submission.csv\").sort_values(\"fn\").reset_index(drop=True)\n",
    "sub19 = pd.read_csv(f\"{output_dir}/DNet201_20fold_base/fold-19-submission.csv\").sort_values(\"fn\").reset_index(drop=True)"
   ]
  },
  {
   "cell_type": "code",
   "execution_count": 22,
   "metadata": {
    "executionInfo": {
     "elapsed": 1666,
     "status": "ok",
     "timestamp": 1606761966474,
     "user": {
      "displayName": "GOPI DURGAPRASAD N150762",
      "photoUrl": "https://lh3.googleusercontent.com/a-/AOh14Gje8m8RK2AKVkZWBIc0HJhrXWpwExK0saBR_KDc41c=s64",
      "userId": "09525390218886483305"
     },
     "user_tz": -330
    },
    "id": "4O7LcgveeVkN"
   },
   "outputs": [],
   "source": [
    "sub = sub0.copy()\n",
    "sub[target_cols] = (\n",
    "    sub0[target_cols].values + \n",
    "    sub1[target_cols].values + \n",
    "    sub2[target_cols].values + \n",
    "    sub3[target_cols].values + \n",
    "    sub4[target_cols].values +\n",
    "    sub5[target_cols].values + \n",
    "    sub6[target_cols].values + \n",
    "    sub7[target_cols].values + \n",
    "    sub8[target_cols].values + \n",
    "    sub9[target_cols].values +\n",
    "    sub10[target_cols].values + \n",
    "    sub11[target_cols].values + \n",
    "    sub12[target_cols].values + \n",
    "    sub13[target_cols].values + \n",
    "    sub14[target_cols].values +\n",
    "    sub15[target_cols].values + \n",
    "    sub16[target_cols].values + \n",
    "    sub17[target_cols].values + \n",
    "    sub18[target_cols].values + \n",
    "    sub19[target_cols].values ) / 20\n",
    "\n",
    "final_ss = pd.merge(sample_submission[[\"fn\"]], sub, on=\"fn\", how=\"left\")\n",
    "final_ss.to_csv(f\"{output_dir}/DNet201_20fold_base/DNet201_20fold_base_submission.csv\", index=False)"
   ]
  },
  {
   "cell_type": "markdown",
   "metadata": {
    "id": "baoYd-9Hef4K"
   },
   "source": [
    "## Ensamble \n",
    "\n",
    "Winning submission info:\n",
    "- ID: xxxxxxx\n",
    "- Filename: eff5_20f_eff6_20f_eff7_20f_dnet201_20f.csv\n",
    "- Comment: E5 * 0.5 + E6 * 0.2 + E7 * 0.2 + DNet201 * 0.1\n",
    "- Submitted: 29 November 15:27\n",
    "- LB Score: 0.737453363596403\n",
    "- Position: 3rd place"
   ]
  },
  {
   "cell_type": "code",
   "execution_count": 24,
   "metadata": {
    "executionInfo": {
     "elapsed": 1519,
     "status": "ok",
     "timestamp": 1606762740489,
     "user": {
      "displayName": "GOPI DURGAPRASAD N150762",
      "photoUrl": "https://lh3.googleusercontent.com/a-/AOh14Gje8m8RK2AKVkZWBIc0HJhrXWpwExK0saBR_KDc41c=s64",
      "userId": "09525390218886483305"
     },
     "user_tz": -330
    },
    "id": "wD31cagkeeQ2"
   },
   "outputs": [],
   "source": [
    "eff5_20f = pd.read_csv(f\"{output_dir}/Eff5_20fold_base/Eff5_20fold_base_submission.csv\").sort_values(\"fn\")\n",
    "eff6_20f = pd.read_csv(f\"{output_dir}/Eff6_20fold_base/Eff6_20fold_base_submission.csv\").sort_values(\"fn\")\n",
    "eff7_20f = pd.read_csv(f\"{output_dir}/Eff7_20fold_base/Eff7_20fold_base_submission.csv\").sort_values(\"fn\")\n",
    "dnet201_20f = pd.read_csv(f\"{output_dir}/DNet201_20fold_base/DNet201_20fold_base_submission.csv\").sort_values(\"fn\")"
   ]
  },
  {
   "cell_type": "code",
   "execution_count": 26,
   "metadata": {
    "executionInfo": {
     "elapsed": 1672,
     "status": "ok",
     "timestamp": 1606762809886,
     "user": {
      "displayName": "GOPI DURGAPRASAD N150762",
      "photoUrl": "https://lh3.googleusercontent.com/a-/AOh14Gje8m8RK2AKVkZWBIc0HJhrXWpwExK0saBR_KDc41c=s64",
      "userId": "09525390218886483305"
     },
     "user_tz": -330
    },
    "id": "H4BSLOaUhNOZ"
   },
   "outputs": [],
   "source": [
    "sub = eff5_20f.copy()\n",
    "sub[target_cols] = eff5_20f[target_cols] * 0.5 + eff6_20f[target_cols] * 0.2 + eff7_20f[target_cols] * 0.2 + dnet201_20f[target_cols] * 0.1\n",
    "\n",
    "final_ss = pd.merge(sample_submission[[\"fn\"]], sub, on=\"fn\", how=\"left\")\n",
    "final_ss.to_csv(f\"{output_dir}/eff5_20f_eff6_20f_eff7_20f_dnet201_20f.csv\", index=False)"
   ]
  },
  {
   "cell_type": "code",
   "execution_count": 27,
   "metadata": {
    "colab": {
     "base_uri": "https://localhost:8080/"
    },
    "executionInfo": {
     "elapsed": 1135,
     "status": "ok",
     "timestamp": 1606762863909,
     "user": {
      "displayName": "GOPI DURGAPRASAD N150762",
      "photoUrl": "https://lh3.googleusercontent.com/a-/AOh14Gje8m8RK2AKVkZWBIc0HJhrXWpwExK0saBR_KDc41c=s64",
      "userId": "09525390218886483305"
     },
     "user_tz": -330
    },
    "id": "GmxLJRNDhpro",
    "outputId": "ddaed71a-5781-4161-f0e1-2b5d60a42996"
   },
   "outputs": [
    {
     "name": "stdout",
     "output_type": "stream",
     "text": [
      "/content/drive/MyDrive/ZINDI GIZ NLP Agricultural Keyword Spotter #3 place solution/trained_weights/eff5_20f_eff6_20f_eff7_20f_dnet201_20f.csv\n"
     ]
    }
   ],
   "source": [
    "# final submission file path\n",
    "print(f\"{output_dir}/eff5_20f_eff6_20f_eff7_20f_dnet201_20f.csv\")"
   ]
  }
 ],
 "metadata": {
  "colab": {
   "authorship_tag": "ABX9TyOBS+y9bGdMHL6KFa4Gt2vI",
   "collapsed_sections": [],
   "name": "06-Final Submission Ensemble.ipynb",
   "provenance": []
  },
  "kernelspec": {
   "display_name": "Python 3",
   "language": "python",
   "name": "python3"
  },
  "language_info": {
   "codemirror_mode": {
    "name": "ipython",
    "version": 3
   },
   "file_extension": ".py",
   "mimetype": "text/x-python",
   "name": "python",
   "nbconvert_exporter": "python",
   "pygments_lexer": "ipython3",
   "version": "3.8.1"
  }
 },
 "nbformat": 4,
 "nbformat_minor": 1
}
